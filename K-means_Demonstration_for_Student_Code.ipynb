{
 "cells": [
  {
   "cell_type": "markdown",
   "id": "7e94d00c",
   "metadata": {},
   "source": [
    "# Welcome! Please press shift+enter to run each cell in turn.\n",
    "The first cell has you type in the name of your file. \n",
    "\n",
    "The next cell will draw the graph. You should have k<=10."
   ]
  },
  {
   "cell_type": "code",
   "execution_count": 3,
   "id": "845d95d3",
   "metadata": {},
   "outputs": [
    {
     "name": "stdout",
     "output_type": "stream",
     "text": [
      "Please type the name of your .csv file. It should have x,y,k as the top row, with the k column containing the cluster number of that (x,y) point \n",
      "Also, it should be in the same directory as this script or in a folder inside this directory.TestData.csv\n"
     ]
    }
   ],
   "source": [
    "import pandas as pd\n",
    "import matplotlib.pyplot as plt\n",
    "\n",
    "file_name = input(\"Please type the name of your .csv file. It should have x,y,k as the top row, with the k column containing the cluster number of that (x,y) point \\nAlso, it should be in the same directory as this script or in a folder inside this directory.\")\n",
    "\n",
    "df = pd.read_csv(\"./\"+file_name)"
   ]
  },
  {
   "cell_type": "code",
   "execution_count": 4,
   "id": "4f45a809",
   "metadata": {},
   "outputs": [
    {
     "data": {
      "image/png": "[encoded data removed]",
      "text/plain": [
       "<Figure size 720x576 with 1 Axes>"
      ]
     },
     "metadata": {
      "needs_background": "light"
     },
     "output_type": "display_data"
    }
   ],
   "source": [
    "k_values = df[\"k\"].unique()\n",
    "\n",
    "if len(k_values) > 10:\n",
    "    print(\"CRITICAL ERROR: K is too high. It's hard to visualize more than 10 colors at once!\")\n",
    "\n",
    "colors = ['darkgoldenrod', 'hotpink', 'navy', 'aqua', 'lime', 'olive', 'violet', 'gray', 'tan', 'firebrick']\n",
    "\n",
    "for k, idx in enumerate(k_values):\n",
    "    current_df = df[df['k'] == k]\n",
    "    plt.scatter(current_df[\"x\"], current_df[\"y\"], color=colors[idx])\n",
    "\n",
    "plt.title(f\"K means for k = {len(k_values)}\", size=\"x-large\")\n",
    "plt.rcParams[\"figure.figsize\"] = [10, 8]\n",
    "plt.grid()\n",
    "plt.show()"
   ]
  },
  {
   "cell_type": "code",
   "execution_count": null,
   "id": "f94c7e56",
   "metadata": {},
   "outputs": [],
   "source": []
  }
 ],
 "metadata": {
  "kernelspec": {
   "display_name": "Python 3 (ipykernel)",
   "language": "python",
   "name": "python3"
  },
  "language_info": {
   "codemirror_mode": {
    "name": "ipython",
    "version": 3
   },
   "file_extension": ".py",
   "mimetype": "text/x-python",
   "name": "python",
   "nbconvert_exporter": "python",
   "pygments_lexer": "ipython3",
   "version": "3.9.12"
  }
 },
 "nbformat": 4,
 "nbformat_minor": 5
}
